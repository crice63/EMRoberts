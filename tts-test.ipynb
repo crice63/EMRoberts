{
 "cells": [
  {
   "cell_type": "markdown",
   "metadata": {},
   "source": [
    "This little script is intended to be a quick way to check the results of the eSpeak to Syllabify pipeline.\n",
    "\n",
    "I put Espeak\\command_line\\ in my PATH so no need to give it a full path to run. The espeak args are delivered as a list. Notable: Any item on the list that stands alone must be a separate list item, so the arg for the `-v` switch is a separate item.\n",
    "\n",
    "My Anaconda is -V 3.6.7, so can't use the `capture_output` parameter added to subprocess in 3.7. The `universal_newlines` parameter causes an encoding fault in subprocess somewhere, so I decode stdout manually after it returns. That is also why the rstrip() is needed, to remove the \\r\\n that eSpeak inserts. I don't know if decode removes the utf8 byte at the front of each line but it appears to."
   ]
  },
  {
   "cell_type": "code",
   "execution_count": 11,
   "metadata": {},
   "outputs": [
    {
     "name": "stdout",
     "output_type": "stream",
     "text": [
      "j_uː k_æ_n p_ˌʊ_t ɪ_n ˌɛ_n_i t_ˈɛ_k_s_t j_uː w_ˈɑː_n_t\n"
     ]
    },
    {
     "data": {
      "text/plain": [
       "'juː k-æ-.n p-ˌʊ-t ɪn ˌɛn.i t-ˈɛ-kst j.uː w-ˈɑː-nt'"
      ]
     },
     "execution_count": 11,
     "metadata": {},
     "output_type": "execute_result"
    }
   ],
   "source": [
    "import subprocess\n",
    "import syllabify_ipa as s\n",
    "text = \"you can put in any text you want\"\n",
    "#outfile = 'C:\\Users\\clair\\Dropbox\\photrans\\practice1.txt'\n",
    "cp = subprocess.run(['espeak', '-v', 'en-us', '-q', '-x', '--ipa=3', text], \n",
    "                    stdout=subprocess.PIPE, stderr=subprocess.PIPE)\n",
    "ipatext = cp.stdout.decode(\"utf-8\").strip()\n",
    "print (ipatext)\n",
    "syltext = s.syllabify(ipatext.split('_'))\n",
    "s.pprint(syltext)\n",
    "#print(VOWELS)"
   ]
  },
  {
   "cell_type": "markdown",
   "metadata": {},
   "source": [
    "So the above produces speech from my computer speaker (if the quiet flag, -q, is omitted), and has the unicode IPA output in a variable. I also found a program to syllabify the ipa forms. We should work line by line so that if espeak runs any words together or breaks the line into parts due to punctuation then we won't have to deal with it right away. We can get the line of poetry, get the IPA version, call them a line, and store it or print it. This partly depends on the front end desired on the Society webpage. Lets pause to get the Book into poems so we can run poems one at a time.\n",
    "\n",
    "Got that done. Poems are in 'texts/emr/UnderTree/' with some TEI tags. This eases things because we can use the tree structure to get specific parts. There's a poem called HORSE.txt that has quoted speech so let's work with that one. Infile is hard coded to start.  "
   ]
  },
  {
   "cell_type": "code",
   "execution_count": null,
   "metadata": {},
   "outputs": [],
   "source": []
  }
 ],
 "metadata": {
  "kernelspec": {
   "display_name": "Python 3",
   "language": "python",
   "name": "python3"
  },
  "language_info": {
   "codemirror_mode": {
    "name": "ipython",
    "version": 3
   },
   "file_extension": ".py",
   "mimetype": "text/x-python",
   "name": "python",
   "nbconvert_exporter": "python",
   "pygments_lexer": "ipython3",
   "version": "3.6.7"
  }
 },
 "nbformat": 4,
 "nbformat_minor": 2
}
