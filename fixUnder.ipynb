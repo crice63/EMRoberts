{
 "cells": [
  {
   "cell_type": "markdown",
   "metadata": {},
   "source": [
    "`fixUnder` is a script to take the poems from EMR *Under the Tree* and put each in its own file in the folder `/texts/UnderTree`. Initially I used Notepad++ to insert a code in front of each poem title (#) in the source file. I also had to delete the empty lines and title at the top of the source file, and fix a small number of poems that had a subtitle (\"A Song\"), that is now on the same line as the title. I also added a code (\\*\\*\\*) to mark the end of the file. \n",
    "\n",
    "Markup is entered based on the book's consistent internal structure. The inserted # triggers the end of the previous poem and the opening of a new poem with the next line. Then we can insert a header line, with poem count, <lg> tags with stanza counts, and <l> tags with a line count. (in TEI, <lg> stands for 'line group', a deliberately vague term to allow for local definitions.) The markup is TEI conformant, following the basic pattern at https://teibyexample.org/tutorials/TBED04v00.htm. I am looking into how to do the markup in JSON in case that is more versatile, or necessary for later processing.\n",
    "\n"
   ]
  },
  {
   "cell_type": "code",
   "execution_count": 3,
   "metadata": {},
   "outputs": [],
   "source": [
    "import re\n",
    "\n",
    "file = \"texts/under.txt\"\n",
    "\n",
    "hashcount = 0    # for counting hashtags to trigger title printing\n",
    "titlecount = 1   # for counting the poems in book order\n",
    "linecount = 1    # for counting poem lines\n",
    "poemlist = None  # for naming individual poem files\n",
    "booklist = []    # for keeping each poem as a big list\n",
    "\n",
    "with open (file, \"r\", encoding='utf-8-sig') as f:  #needed encoding to delete the BOM code\n",
    "    for line in f:\n",
    "        stripped = line.strip()\n",
    "        if '#' in stripped :      # Hash mark means the next line is the title.        \n",
    "            if poemlist :         # If a poem is open, close it\n",
    "                booklist.append(poemlist)    # put the closed poem on the book list\n",
    "            hashcount += 1        # set the hashcount to 1\n",
    "        if \"#\" not in stripped and hashcount == 1 :  # if there's no hash AND a hash just happened\n",
    "            title = stripped                         # then the line is the title\n",
    "            poemlist = []                            \n",
    "            \n",
    "            # Note: putting f before a string def permits vars in curly braces in string\n",
    "            titlecountstring = f'n=\"{titlecount}\">'\n",
    "            poemlist.append(f'<lg xmlns=\"http://www.tei-c.org/ns/1.0\" type=\"poem\" {titlecountstring}')\n",
    "            poemlist.append(title)\n",
    "            hashcount = 0\n",
    "            titlecount += 1\n",
    "            linecount = 1\n",
    "        if \"#\" not in stripped and stripped != title and hashcount == 0 : \n",
    "            if stripped == \"\" :           # If the line is empty\n",
    "                poemlist.append(stripped) # keep the empty line\n",
    "            else :\n",
    "                linecountstring = f'n=\"{linecount}\">'\n",
    "                poemlist.append(f'<l {linecountstring}{stripped}</l>')\n",
    "                linecount += 1\n",
    "\n",
    "# Once all the poems are done with the preliminaries, we go back through them to add more info.\n",
    "# Strictly speaking this isn't necessary, but happens because of the development order. There\n",
    "# may be some consolidation possible so that everthing is done on each poem at once.\n",
    "\n",
    "for poem in booklist :\n",
    "    poemfile_name = f'texts/UnderTree/{poem[1]}.txt' # title is now the second item on the poemlist\n",
    "    poem[1] = f'<head>{poem[1]}</head>' # alter title line by adding tags\n",
    "    \n",
    "        # Next we will enumerate and xml-mark the stanzas of each poem.\n",
    "        # Stanzas have a blank line between them, so find the blank lines followed by text lines.\n",
    "        # A line is blank if it is empty, so we check each line by number.\n",
    "        # blanks will be the list of indexes of blank lines.\n",
    "    blanks = [index for index in range(len(poem)-1) if poem[index] == \"\" and poem[index+1] != \"\"]\n",
    "    \n",
    "        # On each blank line, insert the stanza tag with its number.\n",
    "        # Every stanza tag after first needs an end tag for the previous stanza.\n",
    "    for n, blank in enumerate(blanks) :\n",
    "        if blank == 3 :                                        # if the blank is line number 4 ...\n",
    "            poem[blank] = f'<lg type=\"stanza\" n=\"{n+1}\">'      # the next stanza is the first.\n",
    "        else :                                                 # otherwise ...\n",
    "            poem[blank] = f'</lg><lg type=\"stanza\" n=\"{n+1}\">' # it is a later one, so it need a closing tag, too.\n",
    "        \n",
    "        # put the end tags on the blank lines at the end\n",
    "    poem[-3] = '</lg>'  # this end tag is for the final stanza\n",
    "    poem[-2] = '</lg>'  # this end tag is for the poem\n",
    "    \n",
    "    # Print the TEI version to its own file.  \n",
    "    \n",
    "    with open(poemfile_name, 'w') as p :\n",
    "        for line in poem :\n",
    "            print (line, file=p)\n",
    "\n"
   ]
  },
  {
   "cell_type": "code",
   "execution_count": null,
   "metadata": {},
   "outputs": [],
   "source": []
  },
  {
   "cell_type": "code",
   "execution_count": null,
   "metadata": {},
   "outputs": [],
   "source": []
  }
 ],
 "metadata": {
  "kernelspec": {
   "display_name": "Python 3",
   "language": "python",
   "name": "python3"
  },
  "language_info": {
   "codemirror_mode": {
    "name": "ipython",
    "version": 3
   },
   "file_extension": ".py",
   "mimetype": "text/x-python",
   "name": "python",
   "nbconvert_exporter": "python",
   "pygments_lexer": "ipython3",
   "version": "3.6.7"
  }
 },
 "nbformat": 4,
 "nbformat_minor": 2
}
